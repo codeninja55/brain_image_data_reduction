{
 "cells": [
  {
   "cell_type": "markdown",
   "source": [
    "# StarPlus fMRI Data Exploration\n"
   ],
   "metadata": {
    "collapsed": true,
    "pycharm": {
     "name": "#%% md\n"
    }
   }
  },
  {
   "cell_type": "markdown",
   "source": [
    "## Functional Magnetic Resonance Imaging\n",
    "\n",
    "* Functional Magnetic Resonance Imaging (fMRI) is a technique for obtaining three-dimensional images related to neural \n",
    "activity in the brain through time. \n",
    "* It measures the ratio of oxygenated haemoglobin to deoxygenated haemoglobin in the blood with respect to a control\n",
    "baseline, at many individual locations with the brain.\n",
    "* It is widely believed that blood oxygen level is influenced by local neural activity, and hence this blood oxygen\n",
    "level dependent (BOLD) response is generally taken as an indicator of neural activity. \n",
    "* An fMRI scanner measures the value of the fMRI signal (BOLD response) at all points in a three dimensional grid, or\n",
    "image.\n",
    "* We refer to cells within this 3D image as *voxels* (volumetric elements of pixels).\n",
    "* The voxels in a typical fMRI study has a volume of a few tens of cubic millimeters, and a typical 3D brain image\n",
    "typically contains 10,000 to 15,000 voxels which contain cortical matter and are thus of interest. \n",
    "\n",
    "## StarPlus Dataset Study Notes\n",
    "\n",
    "* Subjects experienced a collection of trials.\n",
    "* During each trial, thhey were shown in sequence a sentence and a simple picture, then answered whether the sentence \n",
    "correctly described the picture.\n",
    "* Half the trials, the sentence was presented first and the other half the picture was presented first. \n",
    "* The stimulus timeline:\n",
    "    * First $\\Rightarrow$ 4 seconds `(image = 1)`\n",
    "    * Blank screen $\\Rightarrow$ 4 seconds `(image = 9)`\n",
    "    * Second $\\Rightarrow$ up to 4 seconds (ending when subjected pressed the mouse button) `(image = 17)`\n",
    "    * Rest $\\Rightarrow$ 15 seconds(about 30 images)\n",
    "* Each trial lasted about $\\approx$ 27 seconds.\n",
    "* Each subject undertook 40 trials.\n",
    "    * There were interspersals of 10 additional rest periods.\n",
    "* fMRI images were collected every 500 msec.\n",
    "* The data is partitioned into trials. \n",
    "    * For some of these intervals, the subject simply rested, or gazed at a fixation point on the screen.\n",
    "* The data is marked up with 25-30 anatomically defined regions (called \"Regions of Interest\", or ROIs).\n",
    "\n",
    "[1\\]"
   ],
   "metadata": {
    "collapsed": false
   }
  },
  {
   "cell_type": "code",
   "source": [
    "# ========== # IMPORTS # ========== #\n",
    "\n",
    "import scipy.io as sio\n",
    "import numpy as np"
   ],
   "outputs": [],
   "execution_count": 82,
   "metadata": {
    "collapsed": false,
    "pycharm": {
     "name": "#%%\n",
     "is_executing": false
    }
   }
  },
  {
   "cell_type": "markdown",
   "source": [
    "### Notes about StarPlus dataset:\n",
    "- Each data file is for a subject with the subject id in as the integer in the title\n",
    "- The files are marked to be loaded in Matlab 7"
   ],
   "metadata": {
    "collapsed": false,
    "pycharm": {
     "name": "#%% md\n"
    }
   }
  },
  {
   "cell_type": "code",
   "source": [
    "# ========== # LOADING DATA # ========== #\n",
    "import os \n",
    "print(os.getcwd())\n",
    "\n",
    "test = sio.loadmat('data/data-starplus-04847-v7.mat')\n",
    "\n",
    "info = test['info']\n",
    "data = test['data']\n",
    "meta = test['meta']\n",
    "\n",
    "print('Mat Structure')\n",
    "sio.whosmat('data/data-starplus-04847-v7.mat')"
   ],
   "outputs": [
    {
     "name": "stdout",
     "text": [
      "/home/codeninja/Development/brain_image_data_reduction/src\n",
      "Mat Structure\n"
     ],
     "output_type": "stream"
    },
    {
     "data": {
      "text/plain": "[('info', (1, 54), 'struct'),\n ('data', (54, 1), 'cell'),\n ('meta', (1, 1), 'struct')]"
     },
     "metadata": {},
     "output_type": "execute_result",
     "execution_count": 90
    }
   ],
   "execution_count": 90,
   "metadata": {
    "collapsed": false,
    "pycharm": {
     "name": "#%%\n",
     "is_executing": false
    }
   }
  },
  {
   "cell_type": "markdown",
   "source": [
    "## MATLAB Dataset Notes  \n",
    "\n",
    "##### Output\n",
    "```\n",
    "meta = \n",
    "  struct with fields:\n",
    "         colToCoord: [4698×3 double]\n",
    "         coordToCol: [64×64×8 double]\n",
    "            nvoxels: 4698\n",
    "               dimx: 64\n",
    "               dimy: 64\n",
    "               dimz: 8\n",
    "            ntrials: 54\n",
    "              study: 'data-starplus'\n",
    "    testReadingSpan: 2\n",
    "     testVandenburg: [13.5000 15]\n",
    "      testPaperFold: [14 1]\n",
    "    testSurfaceFold: [47 3]\n",
    "            subject: '04847'\n",
    "                roi: 'CALC_LFEF_LIPL_LIT_LPPREC_LSPL_LTRIA_RFEF_RIPS_ROPER_RSGA_RT_SMA_LDLPFC_LIPS_LOPER_LSGA_LT_RDLPFC_RIPL_RIT_RPPREC_RSPL_RTRIA'\n",
    "         nsnapshots: 2800\n",
    "               rois: [1×25 struct]\n",
    "           colToROI: {4698×1 cell}\n",
    "\n",
    "\n",
    "info = \n",
    "  1×54 struct array with fields:\n",
    "    cond\n",
    "    len\n",
    "    mint\n",
    "    maxt\n",
    "    missing\n",
    "    nmissing\n",
    "    sentence\n",
    "    img\n",
    "    sentenceRel\n",
    "    sentenceSym1\n",
    "    sentenceSym2\n",
    "    actionRT\n",
    "    actionAnswer\n",
    "    firstStimulus\n",
    "\n",
    "\n",
    "data =\n",
    "  54×1 cell array\n",
    "    {13×4698 double}\n",
    "    {55×4698 double}\n",
    "    {55×4698 double}\n",
    "    ...\n",
    "    {54×4698 double}\n",
    "    {55×4698 double}\n",
    "    {17×4698 double}\n",
    "```\n"
   ],
   "metadata": {}
  },
  {
   "cell_type": "markdown",
   "source": [
    "* Each voxel dimension is `(64,64,8)`\n",
    "* Each subject has `ntrials = 54`\n",
    "* "
   ],
   "metadata": {}
  },
  {
   "cell_type": "code",
   "source": [
    "# ========== # SANITY CHECKS # ========== #\n",
    "print(test['info'].__class__)\n",
    "print(test['info'].dtype)\n",
    "print(test['data'].__class__)\n",
    "print(test['data'].dtype)\n",
    "print(test['meta'].__class__)\n",
    "print(test['meta'].dtype)\n",
    "\n",
    "print(info.shape)\n",
    "print(data.shape)\n",
    "print(meta.shape)\n"
   ],
   "outputs": [
    {
     "name": "stdout",
     "text": [
      "<class 'numpy.ndarray'>\n[('cond', 'O'), ('len', 'O'), ('mint', 'O'), ('maxt', 'O'), ('missing', 'O'), ('nmissing', 'O'), ('sentence', 'O'), ('img', 'O'), ('sentenceRel', 'O'), ('sentenceSym1', 'O'), ('sentenceSym2', 'O'), ('actionRT', 'O'), ('actionAnswer', 'O'), ('firstStimulus', 'O')]\n<class 'numpy.ndarray'>\nobject\n<class 'numpy.ndarray'>\n[('colToCoord', 'O'), ('coordToCol', 'O'), ('nvoxels', 'O'), ('dimx', 'O'), ('dimy', 'O'), ('dimz', 'O'), ('ntrials', 'O'), ('study', 'O'), ('testReadingSpan', 'O'), ('testVandenburg', 'O'), ('testPaperFold', 'O'), ('testSurfaceFold', 'O'), ('subject', 'O'), ('roi', 'O'), ('nsnapshots', 'O'), ('rois', 'O'), ('colToROI', 'O')]\n(1, 54)\n(54, 1)\n(1, 1)\n"
     ],
     "output_type": "stream"
    }
   ],
   "execution_count": 91,
   "metadata": {
    "collapsed": false,
    "pycharm": {
     "name": "#%%\n",
     "is_executing": false
    }
   }
  },
  {
   "cell_type": "code",
   "source": [
    "info.dtype\n"
   ],
   "outputs": [
    {
     "traceback": [
      "\u001b[0;31m---------------------------------------------------------------------------\u001b[0m",
      "\u001b[0;31mNameError\u001b[0m                                 Traceback (most recent call last)",
      "\u001b[0;32m<ipython-input-79-f612bb8da5af>\u001b[0m in \u001b[0;36m<module>\u001b[0;34m\u001b[0m\n\u001b[0;32m----> 1\u001b[0;31m \u001b[0minfo\u001b[0m\u001b[0;34m.\u001b[0m\u001b[0mdtype\u001b[0m\u001b[0;34m\u001b[0m\u001b[0;34m\u001b[0m\u001b[0m\n\u001b[0m\u001b[1;32m      2\u001b[0m \u001b[0;34m\u001b[0m\u001b[0m\n",
      "\u001b[0;31mNameError\u001b[0m: name 'info' is not defined"
     ],
     "ename": "NameError",
     "evalue": "name 'info' is not defined",
     "output_type": "error"
    }
   ],
   "execution_count": 79,
   "metadata": {
    "collapsed": false,
    "pycharm": {
     "name": "#%%\n",
     "is_executing": false
    }
   }
  },
  {
   "cell_type": "code",
   "source": [],
   "outputs": [],
   "execution_count": 79,
   "metadata": {
    "collapsed": false,
    "pycharm": {
     "name": "#%%\n",
     "is_executing": false
    }
   }
  },
  {
   "cell_type": "code",
   "source": [],
   "outputs": [],
   "execution_count": 79,
   "metadata": {
    "collapsed": false,
    "pycharm": {
     "name": "#%%\n",
     "is_executing": false
    }
   }
  },
  {
   "cell_type": "code",
   "source": [
    "for i in info[0,18]:\n",
    "    print(i)"
   ],
   "outputs": [
    {
     "traceback": [
      "\u001b[0;31m---------------------------------------------------------------------------\u001b[0m",
      "\u001b[0;31mNameError\u001b[0m                                 Traceback (most recent call last)",
      "\u001b[0;32m<ipython-input-80-6a0e4b7d582b>\u001b[0m in \u001b[0;36m<module>\u001b[0;34m\u001b[0m\n\u001b[0;32m----> 1\u001b[0;31m \u001b[0;32mfor\u001b[0m \u001b[0mi\u001b[0m \u001b[0;32min\u001b[0m \u001b[0minfo\u001b[0m\u001b[0;34m[\u001b[0m\u001b[0;36m0\u001b[0m\u001b[0;34m,\u001b[0m\u001b[0;36m18\u001b[0m\u001b[0;34m]\u001b[0m\u001b[0;34m:\u001b[0m\u001b[0;34m\u001b[0m\u001b[0;34m\u001b[0m\u001b[0m\n\u001b[0m\u001b[1;32m      2\u001b[0m     \u001b[0mprint\u001b[0m\u001b[0;34m(\u001b[0m\u001b[0mi\u001b[0m\u001b[0;34m)\u001b[0m\u001b[0;34m\u001b[0m\u001b[0;34m\u001b[0m\u001b[0m\n",
      "\u001b[0;31mNameError\u001b[0m: name 'info' is not defined"
     ],
     "ename": "NameError",
     "evalue": "name 'info' is not defined",
     "output_type": "error"
    }
   ],
   "execution_count": 80,
   "metadata": {
    "collapsed": false,
    "pycharm": {
     "name": "#%%\n",
     "is_executing": false
    }
   }
  },
  {
   "cell_type": "markdown",
   "source": [
    "## References\n",
    "\n",
    "[1\\] T. M. Mitchell et al., “Learning to Decode Cognitive States from Brain Images,” Machine Learning, vol. 57, no. 1, pp. 145–175, Oct. 2004.\n"
   ],
   "metadata": {
    "collapsed": false,
    "pycharm": {
     "name": "#%% md\n"
    }
   }
  },
  {
   "cell_type": "markdown",
   "source": [],
   "metadata": {}
  }
 ],
 "metadata": {
  "language_info": {
   "name": "python",
   "version": "3.6.5",
   "mimetype": "text/x-python",
   "codemirror_mode": {
    "name": "ipython",
    "version": 3
   },
   "pygments_lexer": "ipython3",
   "nbconvert_exporter": "python",
   "file_extension": ".py"
  },
  "kernelspec": {
   "name": "pycharm-ba49e42b",
   "language": "python",
   "display_name": "PyCharm (python)"
  },
  "pycharm": {
   "stem_cell": {
    "cell_type": "raw",
    "source": [],
    "metadata": {
     "collapsed": false
    }
   }
  },
  "kernel_info": {
   "name": "pycharm-ba49e42b"
  },
  "nteract": {
   "version": "0.14.2"
  }
 },
 "nbformat": 4,
 "nbformat_minor": 0
}