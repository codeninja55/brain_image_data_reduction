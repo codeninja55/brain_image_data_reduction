{
 "cells": [
  {
   "cell_type": "markdown",
   "metadata": {
    "pycharm": {
     "name": "#%% md\n"
    }
   },
   "source": [
    "# StarPlus fMRI Data Exploration\n"
   ]
  },
  {
   "cell_type": "markdown",
   "metadata": {},
   "source": [
    "## Functional Magnetic Resonance Imaging\n",
    "\n",
    "* Functional Magnetic Resonance Imaging (fMRI) is a technique for obtaining three-dimensional images related to neural \n",
    "activity in the brain through time. \n",
    "* It measures the ratio of oxygenated haemoglobin to deoxygenated haemoglobin in the blood with respect to a control\n",
    "baseline, at many individual locations with the brain.\n",
    "* It is widely believed that blood oxygen level is influenced by local neural activity, and hence this blood oxygen\n",
    "level dependent (BOLD) response is generally taken as an indicator of neural activity. \n",
    "* An fMRI scanner measures the value of the fMRI signal (BOLD response) at all points in a three dimensional grid, or\n",
    "image.\n",
    "* We refer to cells within this 3D image as *voxels* (volumetric elements of pixels).\n",
    "* The voxels in a typical fMRI study has a volume of a few tens of cubic millimeters, and a typical 3D brain image\n",
    "typically contains 10,000 to 15,000 voxels which contain cortical matter and are thus of interest. \n",
    "\n",
    "## StarPlus Dataset Study Notes\n",
    "\n",
    "* Subjects experienced a collection of trials.\n",
    "* During each trial, thhey were shown in sequence a sentence and a simple picture, then answered whether the sentence \n",
    "correctly described the picture.\n",
    "* Half the trials, the sentence was presented first and the other half the picture was presented first. \n",
    "* The stimulus timeline:\n",
    "    * First $\\Rightarrow$ 4 seconds `(image = 1)`\n",
    "    * Blank screen $\\Rightarrow$ 4 seconds `(image = 9)`\n",
    "    * Second $\\Rightarrow$ up to 4 seconds (ending when subjected pressed the mouse button) `(image = 17)`\n",
    "    * Rest $\\Rightarrow$ 15 seconds(about 30 images)\n",
    "* Each trial lasted about $\\approx$ 27 seconds.\n",
    "* Each subject undertook 40 trials.\n",
    "    * There were interspersals of 10 additional rest periods.\n",
    "* fMRI images were collected every 500 msec.\n",
    "* The data is partitioned into trials. \n",
    "    * For some of these intervals, the subject simply rested, or gazed at a fixation point on the screen.\n",
    "* The data is marked up with 25-30 anatomically defined regions (called \"Regions of Interest\", or ROIs).\n",
    "\n",
    "[1\\]"
   ]
  },
  {
   "cell_type": "code",
   "execution_count": 1,
   "metadata": {
    "collapsed": false,
    "pycharm": {
     "is_executing": false,
     "name": "#%%\n"
    }
   },
   "outputs": [],
   "source": [
    "# ========== # IMPORTS # ========== #\n",
    "\n",
    "import scipy.io as sio\n",
    "import numpy as np\n"
   ]
  },
  {
   "cell_type": "markdown",
   "metadata": {
    "pycharm": {
     "name": "#%% md\n"
    }
   },
   "source": [
    "### Notes about StarPlus dataset:\n",
    "- Each data file is for a subject with the subject id in as the integer in the title\n",
    "- The files are marked to be loaded in Matlab 7"
   ]
  },
  {
   "cell_type": "code",
   "execution_count": 2,
   "metadata": {
    "collapsed": false,
    "pycharm": {
     "is_executing": false,
     "name": "#%%\n"
    }
   },
   "outputs": [
    {
     "name": "stdout",
     "output_type": "stream",
     "text": [
      "Mat Structure\n"
     ]
    },
    {
     "data": {
      "text/plain": [
       "[('info', (1, 54), 'struct'),\n",
       " ('data', (54, 1), 'cell'),\n",
       " ('meta', (1, 1), 'struct')]"
      ]
     },
     "execution_count": 2,
     "metadata": {},
     "output_type": "execute_result"
    }
   ],
   "source": [
    "# ========== # LOADING DATA # ========== #\n",
    "test = sio.loadmat('../data/data-starplus-04847-v7.mat')\n",
    "\n",
    "info = test['info'][0]  # (1,54)\n",
    "data = test['data']   # (54,1)\n",
    "meta = test['meta']      # (1,1)\n",
    "\n",
    "print('Mat Structure')\n",
    "sio.whosmat('../data/data-starplus-04847-v7.mat')"
   ]
  },
  {
   "cell_type": "markdown",
   "metadata": {},
   "source": [
    "## MATLAB Dataset Notes  \n",
    "\n",
    "##### Output\n",
    "```\n",
    "meta = \n",
    "  struct with fields:\n",
    "         colToCoord: [4698×3 double]\n",
    "         coordToCol: [64×64×8 double]\n",
    "            nvoxels: 4698\n",
    "               dimx: 64\n",
    "               dimy: 64\n",
    "               dimz: 8\n",
    "            ntrials: 54\n",
    "              study: 'data-starplus'\n",
    "    testReadingSpan: 2\n",
    "     testVandenburg: [13.5000 15]\n",
    "      testPaperFold: [14 1]\n",
    "    testSurfaceFold: [47 3]\n",
    "            subject: '04847'\n",
    "                roi: 'CALC_LFEF_LIPL_LIT_LPPREC_LSPL_LTRIA_RFEF_RIPS_ROPER_RSGA_RT_SMA_LDLPFC_LIPS_LOPER_LSGA_LT_RDLPFC_RIPL_RIT_RPPREC_RSPL_RTRIA'\n",
    "         nsnapshots: 2800\n",
    "               rois: [1×25 struct]\n",
    "           colToROI: {4698×1 cell}\n",
    "\n",
    "\n",
    "info = \n",
    "  1×54 struct array with fields:\n",
    "    cond\n",
    "    len\n",
    "    mint\n",
    "    maxt\n",
    "    missing\n",
    "    nmissing\n",
    "    sentence\n",
    "    img\n",
    "    sentenceRel\n",
    "    sentenceSym1\n",
    "    sentenceSym2\n",
    "    actionRT\n",
    "    actionAnswer\n",
    "    firstStimulus\n",
    "\n",
    "\n",
    "data =\n",
    "  54×1 cell array\n",
    "    {13×4698 double}\n",
    "    {55×4698 double}\n",
    "    {55×4698 double}\n",
    "    ...\n",
    "    {54×4698 double}\n",
    "    {55×4698 double}\n",
    "    {17×4698 double}\n",
    "```\n"
   ]
  },
  {
   "cell_type": "markdown",
   "metadata": {},
   "source": [
    "* Each voxel dimension is `(64,64,8)`\n",
    "* Each subject has `ntrials = 54`\n",
    "* The number of images in the dataset `nvoxels`\n",
    "* The number of voxels in each image is `nsnapshots`\n",
    "* `colToCoord(v,:)` gives the geometric coordinate `(x,y,z)` of the voxel corresponding to column `v` in the data\n",
    "    * `(4634,3)` matrix of `double`\n",
    "* `coordToCol(x,y,z)` gives the column index (within the data) of the voxel whose coordinate is `(x,y,z)`\n",
    "    * `(64,64,8)` matrix of `double`\n",
    "* \n"
   ]
  },
  {
   "cell_type": "code",
   "execution_count": 36,
   "metadata": {
    "collapsed": false,
    "pycharm": {
     "is_executing": false,
     "name": "#%%\n"
    }
   },
   "outputs": [
    {
     "name": "stdout",
     "output_type": "stream",
     "text": [
      "|=====| info |=====|\n",
      "<class 'numpy.ndarray'>\n",
      "('cond', 'len', 'mint', 'maxt', 'missing', 'nmissing', 'sentence', 'img', 'sentenceRel', 'sentenceSym1', 'sentenceSym2', 'actionRT', 'actionAnswer', 'firstStimulus')\n",
      "|=====| data |=====|\n",
      "<class 'numpy.ndarray'>\n",
      "None\n",
      "|=====| meta |=====|\n",
      "<class 'numpy.ndarray'>\n",
      "('colToCoord', 'coordToCol', 'nvoxels', 'dimx', 'dimy', 'dimz', 'ntrials', 'study', 'testReadingSpan', 'testVandenburg', 'testPaperFold', 'testSurfaceFold', 'subject', 'roi', 'nsnapshots', 'rois', 'colToROI')\n",
      "(54,)\n",
      "(1,)\n",
      "(1, 1)\n"
     ]
    }
   ],
   "source": [
    "# ========== # SANITY CHECKS # ========== #\n",
    "\n",
    "print('|=====| info |=====|')\n",
    "print(test['info'].__class__)\n",
    "# print(test['info'].dtype)\n",
    "print(test['info'].dtype.names)\n",
    "\n",
    "print('|=====| data |=====|')\n",
    "print(test['data'].__class__)\n",
    "# print(test['data'].dtype)\n",
    "print(test['data'].dtype.names)\n",
    "\n",
    "print('|=====| meta |=====|')\n",
    "print(test['meta'].__class__)\n",
    "# print(test['meta'].dtype)\n",
    "print(test['meta'].dtype.names)\n",
    "\n",
    "print(info.shape)\n",
    "print(data.shape)\n",
    "print(meta.shape)\n"
   ]
  },
  {
   "cell_type": "code",
   "execution_count": 3,
   "metadata": {
    "collapsed": false,
    "pycharm": {
     "is_executing": false,
     "name": "#%%\n"
    }
   },
   "outputs": [
    {
     "name": "stdout",
     "output_type": "stream",
     "text": [
      "('cond', 'len', 'mint', 'maxt', 'missing', 'nmissing', 'sentence', 'img', 'sentenceRel', 'sentenceSym1', 'sentenceSym2', 'actionRT', 'actionAnswer', 'firstStimulus')\n",
      "\n",
      "[[949]]\n"
     ]
    }
   ],
   "source": [
    "print(info.dtype.names)\n",
    "\n",
    "print()\n",
    "\n",
    "# for i in info[18]:\n",
    "print(info[18]['mint'])"
   ]
  },
  {
   "cell_type": "code",
   "execution_count": 4,
   "metadata": {
    "collapsed": false,
    "pycharm": {
     "is_executing": false,
     "name": "#%%\n"
    }
   },
   "outputs": [
    {
     "name": "stdout",
     "output_type": "stream",
     "text": [
      "(54, 1)\n",
      "(55, 4698)\n",
      "[ 4.04726781  2.75427747  0.56162819 -0.09324056 -0.42475937  5.00742041\n",
      "  0.91386166 -2.08359839 -3.96658501]\n",
      "[ 4.04726781  2.75427747  0.56162819 ... -7.21588547  2.5284988\n",
      "  0.89947608]\n"
     ]
    }
   ],
   "source": [
    "print(data.shape)\n",
    "# data.shape -> (54,1)\n",
    "t1 = data[17,0]   # x = 18th trial\n",
    "\n",
    "print(t1.shape)\n",
    "# data{x}(t,v) -> fMRI observation at voxel v, at time t within trial x\n",
    "print(t1[0,0:9])  # data{18}(1,1:10) -> data[x,0][t,v]\n",
    "print(t1[0,:])  # returns the full image at time 0"
   ]
  },
  {
   "cell_type": "code",
   "execution_count": null,
   "metadata": {
    "pycharm": {
     "name": "#%%\n"
    }
   },
   "outputs": [],
   "source": [
    "\n"
   ]
  },
  {
   "cell_type": "markdown",
   "metadata": {
    "pycharm": {
     "name": "#%% md\n"
    }
   },
   "source": [
    "## References\n",
    "\n",
    "[1\\] T. M. Mitchell et al., “Learning to Decode Cognitive States from Brain Images,” Machine Learning, vol. 57, no. 1, pp. 145–175, Oct. 2004.\n"
   ]
  }
 ],
 "metadata": {
  "kernel_info": {
   "name": "python3"
  },
  "kernelspec": {
   "display_name": "Python 3",
   "language": "python",
   "name": "python3"
  },
  "language_info": {
   "codemirror_mode": {
    "name": "ipython",
    "version": 3
   },
   "file_extension": ".py",
   "mimetype": "text/x-python",
   "name": "python",
   "nbconvert_exporter": "python",
   "pygments_lexer": "ipython3",
   "version": "3.7.2"
  },
  "nteract": {
   "version": "0.14.2"
  },
  "pycharm": {
   "stem_cell": {
    "cell_type": "raw",
    "metadata": {
     "collapsed": false
    },
    "source": []
   }
  }
 },
 "nbformat": 4,
 "nbformat_minor": 2
}
