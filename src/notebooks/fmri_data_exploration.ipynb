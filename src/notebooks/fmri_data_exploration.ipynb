{
  "cells": [
    {
      "cell_type": "markdown",
      "source": [
        "# FMRI Data Exploration\n"
      ],
      "metadata": {
        "collapsed": true,
        "pycharm": {
          "name": "#%% md\n"
        }
      }
    },
    {
      "cell_type": "markdown",
      "source": [
        "## StarPlus fMRI data\n",
        "\n",
        "* Functional Magnetic Resonance Imaging (fMRI) is a technique for obtaining three-dimensional images related to neural \n",
        "activity in the brain through time. \n",
        "* It measures the ratio of oxygenated haemoglobin to deoxygenated haemoglobin in the blood with respect to a control\n",
        "baseline, at many individual locations with the brain.\n",
        "* It is widely believed that blood oxygen level is influenced by local neural activity, and hence this blood oxygen\n",
        "level dependent (BOLD) response is generally taken as an indicator of neural activity. \n",
        "* An fMRI scanner measures the value of the fMRI signal (BOLD response) at all points in a three dimensional grid, or\n",
        "image.\n",
        "* We refer to cells within this 3D image as *voxels* (volumetric elements of pixels).\n",
        "* The voxels in a typical fMRI study has a volume of a few tens of cubic millimeters, and a typical 3D brain image\n",
        "typically contains 10,000 to 15,000 voxels which contain cortical matter and are thus of interest. \n",
        "* "
      ],
      "metadata": {
        "collapsed": false
      }
    },
    {
      "cell_type": "code",
      "source": [
        "# imports\n",
        "\n",
        "import scipy.io as sio\n",
        "import numpy as np\n"
      ],
      "outputs": [],
      "execution_count": 1,
      "metadata": {
        "collapsed": false,
        "pycharm": {
          "name": "#%%\n",
          "is_executing": false
        }
      }
    },
    {
      "cell_type": "markdown",
      "source": [
        "### Notes about StarPlus dataset:\n",
        "- Each data file is for a subject with the subject id in as the integer in the title\n",
        "- The files are marked to be loaded in Matlab 7\n"
      ],
      "metadata": {
        "collapsed": false,
        "pycharm": {
          "name": "#%% md\n"
        }
      }
    },
    {
      "cell_type": "code",
      "source": [
        "test = sio.loadmat('data/data-starplus-04847-v7.mat')\n",
        "\n",
        "nd_info = test['info']\n",
        "nd_data = test['data']\n",
        "\n",
        "print('Mat Structure')\n",
        "sio.whosmat('data/data-starplus-04847-v7.mat')\n"
      ],
      "outputs": [
        {
          "output_type": "stream",
          "name": "stdout",
          "text": [
            "Mat Structure\n"
          ]
        },
        {
          "output_type": "execute_result",
          "execution_count": 2,
          "data": {
            "text/plain": [
              "[('info', (1, 54), 'struct'),\n",
              " ('data', (54, 1), 'cell'),\n",
              " ('meta', (1, 1), 'struct')]"
            ]
          },
          "metadata": {}
        }
      ],
      "execution_count": 2,
      "metadata": {
        "collapsed": false,
        "pycharm": {
          "name": "#%%\n",
          "is_executing": false
        }
      }
    },
    {
      "cell_type": "code",
      "source": [
        "print(test['info'].__class__)\n",
        "print(test['info'].dtype)\n",
        "print(test['data'].__class__)\n",
        "print(test['data'].dtype)\n",
        "print(test['meta'].__class__)\n",
        "print(test['meta'].dtype)\n",
        "print(nd_info.shape)\n",
        "print(nd_data.shape)\n"
      ],
      "outputs": [
        {
          "output_type": "stream",
          "name": "stdout",
          "text": [
            "<class 'numpy.ndarray'>\n",
            "[('cond', 'O'), ('len', 'O'), ('mint', 'O'), ('maxt', 'O'), ('missing', 'O'), ('nmissing', 'O'), ('sentence', 'O'), ('img', 'O'), ('sentenceRel', 'O'), ('sentenceSym1', 'O'), ('sentenceSym2', 'O'), ('actionRT', 'O'), ('actionAnswer', 'O'), ('firstStimulus', 'O')]\n",
            "<class 'numpy.ndarray'>\n",
            "object\n",
            "<class 'numpy.ndarray'>\n",
            "[('colToCoord', 'O'), ('coordToCol', 'O'), ('nvoxels', 'O'), ('dimx', 'O'), ('dimy', 'O'), ('dimz', 'O'), ('ntrials', 'O'), ('study', 'O'), ('testReadingSpan', 'O'), ('testVandenburg', 'O'), ('testPaperFold', 'O'), ('testSurfaceFold', 'O'), ('subject', 'O'), ('roi', 'O'), ('nsnapshots', 'O'), ('rois', 'O'), ('colToROI', 'O')]\n",
            "(1, 54)\n",
            "(54, 1)\n"
          ]
        }
      ],
      "execution_count": 45,
      "metadata": {
        "collapsed": false,
        "pycharm": {
          "name": "#%%\n",
          "is_executing": false
        }
      }
    },
    {
      "cell_type": "code",
      "source": [
        "nd_info.dtype\n"
      ],
      "outputs": [
        {
          "output_type": "execute_result",
          "execution_count": 43,
          "data": {
            "text/plain": [
              "dtype([('cond', 'O'), ('len', 'O'), ('mint', 'O'), ('maxt', 'O'), ('missing', 'O'), ('nmissing', 'O'), ('sentence', 'O'), ('img', 'O'), ('sentenceRel', 'O'), ('sentenceSym1', 'O'), ('sentenceSym2', 'O'), ('actionRT', 'O'), ('actionAnswer', 'O'), ('firstStimulus', 'O')])"
            ]
          },
          "metadata": {}
        }
      ],
      "execution_count": 43,
      "metadata": {
        "collapsed": false,
        "pycharm": {
          "name": "#%%\n",
          "is_executing": false
        }
      }
    },
    {
      "cell_type": "code",
      "source": [
        "print(nd_info[0].shape)\n",
        "print(nd_info[0][0][0].shape)\n",
        "nd_info[0][0][7]"
      ],
      "outputs": [
        {
          "output_type": "stream",
          "name": "stdout",
          "text": [
            "(54,)\n",
            "(1, 1)\n"
          ]
        },
        {
          "output_type": "execute_result",
          "execution_count": 74,
          "data": {
            "text/plain": [
              "array([], dtype='<U1')"
            ]
          },
          "metadata": {}
        }
      ],
      "execution_count": 74,
      "metadata": {
        "collapsed": false,
        "pycharm": {
          "name": "#%%\n",
          "is_executing": false
        }
      }
    },
    {
      "cell_type": "code",
      "source": [
        "print(nd_data[0].shape)\n",
        "print(nd_data[0][0].shape)\n",
        "print(nd_data[0][0][0].shape)\n",
        "print(nd_data[0][0][0][0].shape)\n"
      ],
      "outputs": [
        {
          "output_type": "stream",
          "name": "stdout",
          "text": [
            "(1,)\n",
            "(13, 4698)\n",
            "(4698,)\n",
            "()\n"
          ]
        }
      ],
      "execution_count": 57,
      "metadata": {
        "collapsed": false,
        "pycharm": {
          "name": "#%%\n",
          "is_executing": false
        }
      }
    },
    {
      "cell_type": "code",
      "source": [],
      "outputs": [],
      "execution_count": null,
      "metadata": {
        "collapsed": false,
        "pycharm": {
          "name": "#%%\n"
        }
      }
    },
    {
      "cell_type": "markdown",
      "source": [
        "## References\n",
        "\n",
        "[1] \n"
      ],
      "metadata": {
        "collapsed": false,
        "pycharm": {
          "name": "#%% md\n"
        }
      }
    }
  ],
  "metadata": {
    "language_info": {
      "name": "python",
      "version": "3.6.5",
      "mimetype": "text/x-python",
      "codemirror_mode": {
        "name": "ipython",
        "version": 3
      },
      "pygments_lexer": "ipython3",
      "nbconvert_exporter": "python",
      "file_extension": ".py"
    },
    "kernelspec": {
      "name": "pycharm-ba49e42b",
      "language": "python",
      "display_name": "PyCharm (python)"
    },
    "pycharm": {
      "stem_cell": {
        "cell_type": "raw",
        "source": [],
        "metadata": {
          "collapsed": false
        }
      }
    },
    "kernel_info": {
      "name": "pycharm-ba49e42b"
    },
    "nteract": {
      "version": "0.14.2"
    }
  },
  "nbformat": 4,
  "nbformat_minor": 0
}