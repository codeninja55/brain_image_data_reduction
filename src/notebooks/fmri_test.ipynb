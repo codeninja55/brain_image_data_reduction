{
  "cells": [
    {
      "cell_type": "markdown",
      "source": [
        "# Machine learning for neuroimaging with scikit-learn\n",
        "\n",
        "Reference:  \n",
        "[1\\] https://www.frontiersin.org/articles/10.3389/fninf.2014.00014/full#B13   \n",
        "[2\\] https://www.datacamp.com/community/tutorials/reconstructing-brain-images-deep-learning\n",
        "  "
      ],
      "metadata": {}
    },
    {
      "cell_type": "code",
      "source": [
        "# ===== # IMPORTING # ===== #\n",
        "# [1] \n",
        "import sklearn\n",
        "import nibabel as nib\n",
        "import numpy as np\n",
        "from matplotlib import pyplot as plt\n",
        "\n",
        "# Also load the utility functions\n",
        "import sys\n",
        "import os\n",
        "PWD = os.path.dirname(os.path.abspath(os.getcwd()))\n",
        "NOTEBOOK_PATH = os.path.abspath(os.path.join(PWD, 'notebooks'))\n",
        "UTILS_PATH = os.path.abspath(os.path.join(PWD, 'utils'))\n",
        "sys.path.append(UTILS_PATH)\n",
        "\n",
        "%run ../utils/datasets.py\n",
        "%run ../utils/masking.py\n",
        "%run ../utils/signal.py\n",
        "\n",
        "# [2]\n",
        "os.environ[\"CUDA_DEVICE_ORDER\"]=\"PCI_BUS_ID\"\n",
        "os.environ[\"CUDA_VISIBLE_DEVICES\"]=\"0\"       # model will be trained on GPU 1\n",
        "\n",
        "import cv2\n",
        "from keras.layers import (\n",
        "  Input, Dense, Flatten, Dropout, merge, \n",
        "  Reshape, Conv2D, MaxPooling2D, UpSampling2D, Conv2DTranspose\n",
        ")\n",
        "from keras.layers.normalization import BatchNormalization\n",
        "from keras.models import Model,Sequential\n",
        "from keras.callbacks import ModelCheckpoint\n",
        "from keras.optimizers import Adadelta, RMSprop,SGD,Adam\n",
        "from keras import regularizers\n",
        "from keras import backend as K\n",
        "\n",
        "print(K.tensorflow_backend._get_available_gpus())\n",
        "\n",
        "import scipy.misc\n",
        "import numpy.random as rng\n",
        "from PIL import (Image, ImageDraw, ImageFont)\n",
        "from sklearn.utils import shuffle\n",
        "from sklearn.model_selection import train_test_split\n",
        "import math\n",
        "import glob\n",
        "\n",
        "%matplotlib inline\n",
        "# Load the TensorBoard notebook extension\n",
        "%load_ext tensorboard"
      ],
      "outputs": [
        {
          "output_type": "stream",
          "name": "stdout",
          "text": [
            "The tensorboard module is not an IPython extension.\n"
          ]
        }
      ],
      "execution_count": 8,
      "metadata": {
        "collapsed": false,
        "outputHidden": false,
        "inputHidden": false
      }
    },
    {
      "cell_type": "code",
      "source": [
        "# ===== # FETCHING DATA # ===== #\n",
        "\n",
        "dataset = fetch_miyawaki2008(data_dir='../data')\n",
        "# %run ../data/miyawaki2008/convert_miyawaki.py"
      ],
      "outputs": [],
      "execution_count": 4,
      "metadata": {
        "collapsed": false,
        "outputHidden": false,
        "inputHidden": false
      }
    },
    {
      "cell_type": "code",
      "source": [
        "# ===== # LOADING DATA # ===== #\n",
        "\n",
        "# Keep only random runs\n",
        "X_random = dataset.func[12:]\n",
        "y_random = dataset.label[12:]\n",
        "y_shape = (10, 10)\n",
        "\n",
        "X_train = []\n",
        "\n",
        "for x_rand in X_random:\n",
        "  # Mask data\n",
        "  x_img = nibabel.load(x_rand)\n",
        "  x = apply_mask(x_img, dataset.mask)\n",
        "  x = clean(x, standardize=True, detrend=True)\n",
        "  X_train.append(x)"
      ],
      "outputs": [],
      "execution_count": null,
      "metadata": {
        "collapsed": false,
        "outputHidden": false,
        "inputHidden": false
      }
    },
    {
      "cell_type": "code",
      "source": [
        "print(len(X_train))\n",
        "print(X_train[0].shape)\n",
        "print(X_train[0][0,:])"
      ],
      "outputs": [],
      "execution_count": null,
      "metadata": {
        "collapsed": false,
        "outputHidden": false,
        "inputHidden": false
      }
    },
    {
      "cell_type": "code",
      "source": [
        "# %run ../utils/visualization_101.py\n",
        "\n",
        "# Load image\n",
        "bg_img = nibabel.load('../utils/bg.nii.gz')\n",
        "print(bg_img)\n",
        "bg = bg_img.get_data()\n",
        "# Keep values over 4000 as activation map\n",
        "act = bg.copy()\n",
        "act[act < 6000] = 0.\n",
        "\n",
        "# Display the background\n",
        "plt.imshow(bg[..., 10].T, origin='lower', interpolation='nearest', cmap='gray')\n",
        "# Mask background values of activation map\n",
        "masked_act = np.ma.masked_equal(act, 0.)\n",
        "plt.imshow(masked_act[..., 10].T, origin='lower', interpolation='nearest', cmap='hot')\n",
        "# Cosmetics: disable axis\n",
        "plt.axis('off')\n",
        "plt.show()\n",
        "# Save the activation map\n",
        "# nibabel.save(nibabel.Nifti1Image(act, bg_img.affine), 'activation.nii.gz')"
      ],
      "outputs": [],
      "execution_count": null,
      "metadata": {
        "collapsed": false,
        "outputHidden": false,
        "inputHidden": false
      }
    },
    {
      "cell_type": "code",
      "source": [],
      "outputs": [],
      "execution_count": null,
      "metadata": {
        "collapsed": false,
        "outputHidden": false,
        "inputHidden": false
      }
    }
  ],
  "metadata": {
    "language_info": {
      "name": "python",
      "version": "3.7.3",
      "mimetype": "text/x-python",
      "codemirror_mode": {
        "name": "ipython",
        "version": 3
      },
      "pygments_lexer": "ipython3",
      "nbconvert_exporter": "python",
      "file_extension": ".py"
    },
    "kernelspec": {
      "name": "info411",
      "language": "python",
      "display_name": "Python (info411)"
    },
    "kernel_info": {
      "name": "info411"
    },
    "nteract": {
      "version": "0.14.2"
    }
  },
  "nbformat": 4,
  "nbformat_minor": 0
}