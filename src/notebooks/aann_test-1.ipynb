{
 "cells": [
  {
   "cell_type": "markdown",
   "metadata": {
    "pycharm": {
     "name": "#%% md\n"
    }
   },
   "source": [
    "# Autoassociative Artificual Neural Network"
   ]
  },
  {
   "cell_type": "markdown",
   "metadata": {
    "pycharm": {
     "name": "#%% md\n"
    }
   },
   "source": [
    "## Multi-Layer Perceptron\n",
    "\n",
    "* **Multi-layer perceptron** is a type of network where multiple layers of a group of perceptron are stacked together to make a model.\n",
    "* If we stack a bunch of perceptrons together, it becomes a hidden layer (also known as Dense layer). \n",
    "\n",
    "$$\n",
    "f(X) = W \\cdot X + \\overrightarrow{b}\n",
    "$$\n",
    "\n",
    "* The dense layer uses a linear function, and any combination of linear function only results in the linear output.\n",
    "* To add the flexbility to learn non-linear decision boundaries, we need to introduce an **activation function**.\n",
    "* Activation functions can include:\n",
    "    * Sigmoid or Logistic\n",
    "    * ReLU\n",
    "    * Tanh   \n",
    "* The Rectified Linear Units (ReLU) is a popular activation function that is zero for any input value below zero and the same value for values greater than zero.\n",
    "\n",
    "$$\n",
    "f(X) = max(0, X)\n",
    "$$\n"
   ]
  },
  {
   "cell_type": "code",
   "execution_count": 1,
   "metadata": {
    "collapsed": false,
    "pycharm": {
     "is_executing": false,
     "name": "#%%\n"
    }
   },
   "outputs": [
    {
     "name": "stderr",
     "output_type": "stream",
     "text": [
      "Using TensorFlow backend.\n"
     ]
    }
   ],
   "source": [
    "# ===== # IMPORTS # ===== #\n",
    "import sys\n",
    "import os\n",
    "import keras\n",
    "import numpy as np\n",
    "import scipy.io as scio\n",
    "import matplotlib.pyplot as plt\n",
    "%matplotlib inline\n",
    "\n",
    "nb_dir = os.path.split(os.getcwd())[0]\n",
    "if nb_dir not in sys.path:\n",
    "    sys.path.append(nb_dir)"
   ]
  },
  {
   "cell_type": "code",
   "execution_count": 39,
   "metadata": {
    "collapsed": false,
    "pycharm": {
     "is_executing": false,
     "name": "#%%\n"
    }
   },
   "outputs": [
    {
     "name": "stdout",
     "output_type": "stream",
     "text": [
      "[('examples', (50, 253692), 'double'), ('labels', (50, 1), 'double')]\n",
      "Examples (X) shape: (50, 253692)\n",
      "Labels (Y) shape: (50, 1)\n"
     ]
    }
   ],
   "source": [
    "# ===== # LOAD DATA # ===== #\n",
    "print(scio.whosmat('../data/input.mat'))\n",
    "data = scio.matlab.loadmat('../data/input.mat')\n",
    "X = data['examples']\n",
    "Y = data['labels']\n",
    "print('Examples (X) shape: {}'.format(X.shape))\n",
    "print('Labels (Y) shape: {}'.format(Y.shape))\n"
   ]
  },
  {
   "cell_type": "markdown",
   "metadata": {},
   "source": [
    "## An Example"
   ]
  },
  {
   "cell_type": "code",
   "execution_count": 2,
   "metadata": {
    "collapsed": false,
    "pycharm": {
     "is_executing": false,
     "name": "#%%\n"
    }
   },
   "outputs": [],
   "source": [
    "%run ../models/aann\n",
    "from models.aann import *\n",
    "\n",
    "# ===== # MNIST EXAMPLE # ===== #\n",
    "(X_train, y_train), (X_test, y_test) = keras.datasets.mnist.load_data()\n",
    "\n",
    "flatten = True\n",
    "\n",
    "# normalize x\n",
    "X_train = X_train.astype(float) / 255.\n",
    "X_test = X_test.astype(float) / 255.\n",
    "\n",
    "# we reserve the last 10,000 traiing examples for validation\n",
    "X_train, X_val = X_train[:-10000], X_train[-10000:]\n",
    "y_train, y_val = y_train[:-10000], y_train[-10000:]\n",
    "\n",
    "if flatten:\n",
    "    X_train = X_train.reshape([X_train.shape[0], -1])\n",
    "    X_val = X_val.reshape([X_val.shape[0], -1])\n",
    "    X_test = X_test.reshape([X_test.shape[0], -1])"
   ]
  },
  {
   "cell_type": "code",
   "execution_count": 34,
   "metadata": {
    "collapsed": false,
    "inputHidden": false,
    "outputHidden": false
   },
   "outputs": [
    {
     "data": {
      "image/png": "[encoded data removed]",
      "text/plain": [
       "<Figure size 432x432 with 4 Axes>"
      ]
     },
     "metadata": {
      "needs_background": "light"
     },
     "output_type": "display_data"
    }
   ],
   "source": [
    "# lets look at some examples\n",
    "plt.figure(figsize=(6,6))\n",
    "\n",
    "for i in range(4):\n",
    "    plt.subplot(2, 2, i+1)\n",
    "    plt.title('Label: {}'.format(y_train[i]))\n",
    "    plt.imshow(X_train[i].reshape([28,28]), cmap='gray')"
   ]
  },
  {
   "cell_type": "code",
   "execution_count": 3,
   "metadata": {
    "collapsed": false,
    "inputHidden": false,
    "outputHidden": false
   },
   "outputs": [],
   "source": [
    "mlp = MLP()\n",
    "mlp.add(Dense(X_train.shape[1], 100))\n",
    "mlp.add(ReLU())\n",
    "mlp.add(Dense(100, 200))\n",
    "mlp.add(ReLU())\n",
    "mlp.add(Dense(200, 10))"
   ]
  },
  {
   "cell_type": "code",
   "execution_count": 4,
   "metadata": {
    "collapsed": false,
    "inputHidden": false,
    "outputHidden": false
   },
   "outputs": [
    {
     "name": "stderr",
     "output_type": "stream",
     "text": [
      "100%|██████████| 1562/1562 [00:02<00:00, 664.17it/s]\n"
     ]
    },
    {
     "ename": "NameError",
     "evalue": "name 'predict' is not defined",
     "output_type": "error",
     "traceback": [
      "\u001b[0;31m---------------------------------------------------------------------------\u001b[0m",
      "\u001b[0;31mNameError\u001b[0m                                 Traceback (most recent call last)",
      "\u001b[0;32m<ipython-input-4-776acc70e7db>\u001b[0m in \u001b[0;36m<module>\u001b[0;34m\u001b[0m\n\u001b[1;32m     23\u001b[0m \u001b[0;31m#     mlp.train(X_train, y_train)\u001b[0m\u001b[0;34m\u001b[0m\u001b[0;34m\u001b[0m\u001b[0;34m\u001b[0m\u001b[0m\n\u001b[1;32m     24\u001b[0m \u001b[0;34m\u001b[0m\u001b[0m\n\u001b[0;32m---> 25\u001b[0;31m     \u001b[0mtrain_log\u001b[0m\u001b[0;34m.\u001b[0m\u001b[0mappend\u001b[0m\u001b[0;34m(\u001b[0m\u001b[0mnp\u001b[0m\u001b[0;34m.\u001b[0m\u001b[0mmean\u001b[0m\u001b[0;34m(\u001b[0m\u001b[0mpredict\u001b[0m\u001b[0;34m(\u001b[0m\u001b[0mX_train\u001b[0m\u001b[0;34m)\u001b[0m \u001b[0;34m==\u001b[0m \u001b[0my_train\u001b[0m\u001b[0;34m)\u001b[0m\u001b[0;34m)\u001b[0m\u001b[0;34m\u001b[0m\u001b[0;34m\u001b[0m\u001b[0m\n\u001b[0m\u001b[1;32m     26\u001b[0m     \u001b[0mval_log\u001b[0m\u001b[0;34m.\u001b[0m\u001b[0mappend\u001b[0m\u001b[0;34m(\u001b[0m\u001b[0mnp\u001b[0m\u001b[0;34m.\u001b[0m\u001b[0mmean\u001b[0m\u001b[0;34m(\u001b[0m\u001b[0mpredict\u001b[0m\u001b[0;34m(\u001b[0m\u001b[0mX_val\u001b[0m\u001b[0;34m)\u001b[0m \u001b[0;34m==\u001b[0m \u001b[0my_val\u001b[0m\u001b[0;34m)\u001b[0m\u001b[0;34m)\u001b[0m\u001b[0;34m\u001b[0m\u001b[0;34m\u001b[0m\u001b[0m\n\u001b[1;32m     27\u001b[0m \u001b[0;34m\u001b[0m\u001b[0m\n",
      "\u001b[0;31mNameError\u001b[0m: name 'predict' is not defined"
     ]
    }
   ],
   "source": [
    "from tqdm import trange\n",
    "from IPython.display import clear_output\n",
    "\n",
    "def iterate_minibatches(inputs, targets, batchsize, shuffle=False):\n",
    "    assert len(inputs) == len(targets)\n",
    "    \n",
    "    if shuffle:\n",
    "        indices = np.random.permutation(len(inputs))\n",
    "    \n",
    "    for start_idx in trange(0, len(inputs) - batchsize + 1, batchsize):\n",
    "        if shuffle:\n",
    "            excerpt = indices[start_idx:start_idx + batchsize]\n",
    "        else:\n",
    "            excerpt = slice[start_idx:start_idx + batchsize]\n",
    "        yield inputs[excerpt], targets[excerpt]\n",
    "\n",
    "train_log = []\n",
    "val_log = []\n",
    "\n",
    "for epoch in range(25):\n",
    "    for x_batch, y_batch in iterate_minibatches(X_train, y_train, batchsize=32, shuffle=True):\n",
    "        mlp.train(x_batch, y_batch)\n",
    "#     mlp.train(X_train, y_train)\n",
    "    \n",
    "    train_log.append(np.mean(mlp.predict(X_train) == y_train))\n",
    "    val_log.append(np.mean(mlp.predict(X_val) == y_val))\n",
    "    \n",
    "    clear_output()\n",
    "    print('Epoch', epoch)\n",
    "    print('Train accuracy:', train_log[-1])\n",
    "    print('Validation accuracy:', val_log[-1])\n",
    "    \n",
    "    plt.plot(train_log, label='train accuracy')\n",
    "    plt.plot(val_log, label='validation accuracy')\n",
    "    plt.legend(loc='best')\n",
    "    plt.grid()\n",
    "    plt.show()\n"
   ]
  },
  {
   "cell_type": "code",
   "execution_count": null,
   "metadata": {
    "collapsed": false,
    "inputHidden": false,
    "outputHidden": false
   },
   "outputs": [],
   "source": []
  }
 ],
 "metadata": {
  "kernel_info": {
   "name": "pycharm-9f17f292"
  },
  "kernelspec": {
   "display_name": "Python (info411)",
   "language": "python",
   "name": "info411"
  },
  "language_info": {
   "codemirror_mode": {
    "name": "ipython",
    "version": 3
   },
   "file_extension": ".py",
   "mimetype": "text/x-python",
   "name": "python",
   "nbconvert_exporter": "python",
   "pygments_lexer": "ipython3",
   "version": "3.7.3"
  },
  "nteract": {
   "version": "0.14.2"
  },
  "pycharm": {
   "stem_cell": {
    "cell_type": "raw",
    "metadata": {
     "collapsed": false
    },
    "source": []
   }
  }
 },
 "nbformat": 4,
 "nbformat_minor": 2
}
