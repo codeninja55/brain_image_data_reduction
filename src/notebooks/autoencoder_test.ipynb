{
 "cells": [
  {
   "cell_type": "markdown",
   "metadata": {},
   "source": [
    "# Autoencoder Artificial Neural Network"
   ]
  },
  {
   "cell_type": "code",
   "execution_count": 1,
   "metadata": {},
   "outputs": [],
   "source": [
    "# ===== # IMPORTS # ===== #\n",
    "import os\n",
    "import sys\n",
    "\n",
    "from sklearn import datasets\n",
    "\n",
    "import numpy as np\n",
    "import matplotlib.pyplot as plt\n",
    "%matplotlib inline\n",
    "\n",
    "nb_dir = os.path.split(os.getcwd())[0]\n",
    "models_dir = os.path.abspath(os.path.join(nb_dir, 'models'))\n",
    "if nb_dir not in sys.path:\n",
    "    sys.path.append(nb_dir)\n",
    "if models_dir not in sys.path:\n",
    "    sys.path.append(models_dir)"
   ]
  },
  {
   "cell_type": "markdown",
   "metadata": {},
   "source": [
    "## Keras Implementation"
   ]
  },
  {
   "cell_type": "code",
   "execution_count": 2,
   "metadata": {
    "collapsed": false,
    "inputHidden": false,
    "outputHidden": false
   },
   "outputs": [
    {
     "name": "stderr",
     "output_type": "stream",
     "text": [
      "Using TensorFlow backend.\n"
     ]
    }
   ],
   "source": [
    "from tensorflow.keras.datasets import fashion_mnist\n",
    "from models.autoencoder_keras import Autoencoder"
   ]
  },
  {
   "cell_type": "code",
   "execution_count": 3,
   "metadata": {
    "collapsed": false,
    "inputHidden": false,
    "outputHidden": false
   },
   "outputs": [
    {
     "name": "stdout",
     "output_type": "stream",
     "text": [
      "Train dataset shape:  (60000, 28, 28)\n",
      "Train labels shape:  (60000,)\n",
      "Test dataset shape:  (10000, 28, 28)\n",
      "Train dataset reshaped:  (60000, 784)\n",
      "Test dataset reshaped:  (10000, 784)\n"
     ]
    }
   ],
   "source": [
    "# ===== # IMPORT DATA # ===== #\n",
    "(x_train, y_train), (x_test, y_test) = fashion_mnist.load_data()\n",
    "\n",
    "print('Train dataset shape: ', x_train.shape)\n",
    "print('Train labels shape: ', y_train.shape)\n",
    "print('Test dataset shape: ', x_test.shape)\n",
    "\n",
    "# ===== # PREPROCESS # ===== #\n",
    "x_train = x_train.astype('float32') / 255.\n",
    "x_test = x_test.astype('float32') / 255.\n",
    "x_train = x_train.reshape((len(x_train), np.prod(x_train.shape[1:])))\n",
    "x_test = x_test.reshape((len(x_test), np.prod(x_test.shape[1:])))\n",
    "\n",
    "print('Train dataset reshaped: ', x_train.shape)\n",
    "print('Test dataset reshaped: ', x_test.shape)"
   ]
  },
  {
   "cell_type": "code",
   "execution_count": null,
   "metadata": {
    "collapsed": false,
    "inputHidden": false,
    "outputHidden": false
   },
   "outputs": [
    {
     "name": "stdout",
     "output_type": "stream",
     "text": [
      "WARNING:tensorflow:From /home/codeninja/anaconda3/envs/info411/lib/python3.7/site-packages/tensorflow/python/framework/op_def_library.py:263: colocate_with (from tensorflow.python.framework.ops) is deprecated and will be removed in a future version.\n",
      "Instructions for updating:\n",
      "Colocations handled automatically by placer.\n",
      "WARNING:tensorflow:From /home/codeninja/anaconda3/envs/info411/lib/python3.7/site-packages/tensorflow/python/ops/math_ops.py:3066: to_int32 (from tensorflow.python.ops.math_ops) is deprecated and will be removed in a future version.\n",
      "Instructions for updating:\n",
      "Use tf.cast instead.\n",
      "Train on 60000 samples, validate on 10000 samples\n",
      "Epoch 1/250\n",
      "60000/60000 [==============================] - 2s 30us/step - loss: 0.5269 - val_loss: 0.4536\n",
      "Epoch 2/250\n",
      "60000/60000 [==============================] - 1s 9us/step - loss: 0.4232 - val_loss: 0.4050\n",
      "Epoch 3/250\n",
      "60000/60000 [==============================] - 1s 12us/step - loss: 0.3938 - val_loss: 0.3854\n",
      "Epoch 4/250\n",
      "60000/60000 [==============================] - 2s 31us/step - loss: 0.3752 - val_loss: 0.3686\n",
      "Epoch 5/250\n",
      "60000/60000 [==============================] - 2s 35us/step - loss: 0.3604 - val_loss: 0.3560\n",
      "Epoch 6/250\n",
      "60000/60000 [==============================] - 1s 14us/step - loss: 0.3494 - val_loss: 0.3466\n",
      "Epoch 7/250\n",
      "60000/60000 [==============================] - 1s 15us/step - loss: 0.3411 - val_loss: 0.3394\n",
      "Epoch 8/250\n",
      "60000/60000 [==============================] - 2s 25us/step - loss: 0.3348 - val_loss: 0.3340\n",
      "Epoch 9/250\n",
      "60000/60000 [==============================] - 2s 32us/step - loss: 0.3299 - val_loss: 0.3297\n",
      "Epoch 10/250\n",
      "60000/60000 [==============================] - 2s 31us/step - loss: 0.3260 - val_loss: 0.3262\n",
      "Epoch 11/250\n",
      "60000/60000 [==============================] - 2s 25us/step - loss: 0.3227 - val_loss: 0.3231\n",
      "Epoch 12/250\n",
      "60000/60000 [==============================] - 2s 28us/step - loss: 0.3200 - val_loss: 0.3206\n",
      "Epoch 13/250\n",
      "60000/60000 [==============================] - 2s 26us/step - loss: 0.3176 - val_loss: 0.3184\n",
      "Epoch 14/250\n",
      "60000/60000 [==============================] - 1s 20us/step - loss: 0.3155 - val_loss: 0.3166\n",
      "Epoch 15/250\n",
      "60000/60000 [==============================] - 1s 16us/step - loss: 0.3138 - val_loss: 0.3149\n",
      "Epoch 16/250\n",
      "60000/60000 [==============================] - 1s 19us/step - loss: 0.3122 - val_loss: 0.3135\n",
      "Epoch 17/250\n",
      "60000/60000 [==============================] - 1s 24us/step - loss: 0.3108 - val_loss: 0.3122\n",
      "Epoch 18/250\n",
      "60000/60000 [==============================] - 2s 32us/step - loss: 0.3096 - val_loss: 0.3111\n",
      "Epoch 19/250\n",
      "60000/60000 [==============================] - 1s 23us/step - loss: 0.3086 - val_loss: 0.3101\n",
      "Epoch 20/250\n",
      "60000/60000 [==============================] - 2s 25us/step - loss: 0.3076 - val_loss: 0.3092\n",
      "Epoch 21/250\n",
      "60000/60000 [==============================] - 2s 30us/step - loss: 0.3067 - val_loss: 0.3084\n",
      "Epoch 22/250\n",
      "60000/60000 [==============================] - 2s 33us/step - loss: 0.3059 - val_loss: 0.3076\n",
      "Epoch 23/250\n",
      "60000/60000 [==============================] - 1s 10us/step - loss: 0.3052 - val_loss: 0.3069\n",
      "Epoch 24/250\n",
      "60000/60000 [==============================] - 1s 21us/step - loss: 0.3045 - val_loss: 0.3062\n",
      "Epoch 25/250\n",
      "60000/60000 [==============================] - 2s 32us/step - loss: 0.3039 - val_loss: 0.3056\n",
      "Epoch 26/250\n",
      "60000/60000 [==============================] - 1s 15us/step - loss: 0.3032 - val_loss: 0.3050\n",
      "Epoch 27/250\n",
      "60000/60000 [==============================] - 1s 14us/step - loss: 0.3027 - val_loss: 0.3044\n",
      "Epoch 28/250\n",
      "60000/60000 [==============================] - 1s 24us/step - loss: 0.3021 - val_loss: 0.3038\n",
      "Epoch 29/250\n",
      "60000/60000 [==============================] - 2s 35us/step - loss: 0.3015 - val_loss: 0.3033\n",
      "Epoch 30/250\n",
      "60000/60000 [==============================] - 2s 35us/step - loss: 0.3010 - val_loss: 0.3028\n",
      "Epoch 31/250\n",
      "60000/60000 [==============================] - 2s 35us/step - loss: 0.3005 - val_loss: 0.3023\n",
      "Epoch 32/250\n",
      "60000/60000 [==============================] - 1s 15us/step - loss: 0.3000 - val_loss: 0.3018\n",
      "Epoch 33/250\n",
      "60000/60000 [==============================] - 2s 30us/step - loss: 0.2996 - val_loss: 0.3014\n",
      "Epoch 34/250\n",
      "60000/60000 [==============================] - 2s 30us/step - loss: 0.2991 - val_loss: 0.3010\n",
      "Epoch 35/250\n",
      "60000/60000 [==============================] - 2s 30us/step - loss: 0.2987 - val_loss: 0.3005\n",
      "Epoch 36/250\n",
      "60000/60000 [==============================] - 2s 30us/step - loss: 0.2983 - val_loss: 0.3001\n",
      "Epoch 37/250\n",
      "60000/60000 [==============================] - 2s 30us/step - loss: 0.2979 - val_loss: 0.2997\n",
      "Epoch 38/250\n",
      "60000/60000 [==============================] - 2s 30us/step - loss: 0.2975 - val_loss: 0.2994\n",
      "Epoch 39/250\n",
      "60000/60000 [==============================] - 2s 30us/step - loss: 0.2971 - val_loss: 0.2990\n",
      "Epoch 40/250\n",
      "60000/60000 [==============================] - 2s 32us/step - loss: 0.2968 - val_loss: 0.2987\n",
      "Epoch 41/250\n",
      "60000/60000 [==============================] - 2s 25us/step - loss: 0.2964 - val_loss: 0.2983\n",
      "Epoch 42/250\n",
      "60000/60000 [==============================] - 1s 20us/step - loss: 0.2961 - val_loss: 0.2980\n",
      "Epoch 43/250\n",
      "60000/60000 [==============================] - 1s 11us/step - loss: 0.2958 - val_loss: 0.2977\n",
      "Epoch 44/250\n",
      "60000/60000 [==============================] - 2s 34us/step - loss: 0.2955 - val_loss: 0.2974\n",
      "Epoch 45/250\n",
      "60000/60000 [==============================] - 2s 27us/step - loss: 0.2952 - val_loss: 0.2971\n",
      "Epoch 46/250\n",
      "60000/60000 [==============================] - 2s 30us/step - loss: 0.2949 - val_loss: 0.2969\n",
      "Epoch 47/250\n",
      "60000/60000 [==============================] - 2s 25us/step - loss: 0.2947 - val_loss: 0.2966\n",
      "Epoch 48/250\n",
      "60000/60000 [==============================] - 2s 27us/step - loss: 0.2944 - val_loss: 0.2964\n",
      "Epoch 49/250\n",
      "60000/60000 [==============================] - 2s 35us/step - loss: 0.2942 - val_loss: 0.2962\n",
      "Epoch 50/250\n",
      "60000/60000 [==============================] - 0s 7us/step - loss: 0.2940 - val_loss: 0.2959\n",
      "Epoch 51/250\n",
      "60000/60000 [==============================] - 1s 23us/step - loss: 0.2937 - val_loss: 0.2957\n",
      "Epoch 52/250\n",
      "60000/60000 [==============================] - 1s 20us/step - loss: 0.2935 - val_loss: 0.2955\n",
      "Epoch 53/250\n",
      "60000/60000 [==============================] - 2s 35us/step - loss: 0.2933 - val_loss: 0.2953\n",
      "Epoch 54/250\n",
      "60000/60000 [==============================] - 2s 35us/step - loss: 0.2931 - val_loss: 0.2951\n",
      "Epoch 55/250\n",
      "60000/60000 [==============================] - 2s 35us/step - loss: 0.2929 - val_loss: 0.2950\n",
      "Epoch 56/250\n",
      "60000/60000 [==============================] - 1s 19us/step - loss: 0.2928 - val_loss: 0.2948\n",
      "Epoch 57/250\n",
      "60000/60000 [==============================] - 1s 12us/step - loss: 0.2926 - val_loss: 0.2946\n",
      "Epoch 58/250\n",
      "60000/60000 [==============================] - 1s 14us/step - loss: 0.2924 - val_loss: 0.2944\n",
      "Epoch 59/250\n",
      "60000/60000 [==============================] - 2s 31us/step - loss: 0.2923 - val_loss: 0.2943\n",
      "Epoch 60/250\n",
      "60000/60000 [==============================] - 2s 32us/step - loss: 0.2921 - val_loss: 0.2941\n",
      "Epoch 61/250\n",
      "60000/60000 [==============================] - 1s 18us/step - loss: 0.2920 - val_loss: 0.2940\n",
      "Epoch 62/250\n",
      "60000/60000 [==============================] - 2s 34us/step - loss: 0.2918 - val_loss: 0.2939\n",
      "Epoch 63/250\n",
      "60000/60000 [==============================] - 1s 12us/step - loss: 0.2917 - val_loss: 0.2937\n",
      "Epoch 64/250\n",
      "60000/60000 [==============================] - 1s 20us/step - loss: 0.2915 - val_loss: 0.2936\n",
      "Epoch 65/250\n",
      "60000/60000 [==============================] - 2s 35us/step - loss: 0.2914 - val_loss: 0.2935\n",
      "Epoch 66/250\n",
      "60000/60000 [==============================] - 0s 8us/step - loss: 0.2913 - val_loss: 0.2933\n",
      "Epoch 67/250\n",
      "60000/60000 [==============================] - 2s 27us/step - loss: 0.2911 - val_loss: 0.2932\n",
      "Epoch 68/250\n",
      "60000/60000 [==============================] - 1s 13us/step - loss: 0.2910 - val_loss: 0.2931\n",
      "Epoch 69/250\n",
      "60000/60000 [==============================] - 1s 24us/step - loss: 0.2909 - val_loss: 0.2930\n",
      "Epoch 70/250\n",
      "60000/60000 [==============================] - 2s 28us/step - loss: 0.2908 - val_loss: 0.2929\n",
      "Epoch 71/250\n",
      "60000/60000 [==============================] - 2s 33us/step - loss: 0.2906 - val_loss: 0.2928\n",
      "Epoch 72/250\n",
      "60000/60000 [==============================] - 2s 27us/step - loss: 0.2905 - val_loss: 0.2926\n",
      "Epoch 73/250\n",
      "60000/60000 [==============================] - 1s 22us/step - loss: 0.2904 - val_loss: 0.2925\n",
      "Epoch 74/250\n",
      "60000/60000 [==============================] - 1s 25us/step - loss: 0.2903 - val_loss: 0.2924\n",
      "Epoch 75/250\n",
      "60000/60000 [==============================] - 2s 30us/step - loss: 0.2902 - val_loss: 0.2923\n",
      "Epoch 76/250\n",
      "60000/60000 [==============================] - 2s 32us/step - loss: 0.2901 - val_loss: 0.2922\n",
      "Epoch 77/250\n",
      "60000/60000 [==============================] - 2s 25us/step - loss: 0.2900 - val_loss: 0.2921\n",
      "Epoch 78/250\n",
      "60000/60000 [==============================] - 1s 20us/step - loss: 0.2899 - val_loss: 0.2920\n",
      "Epoch 79/250\n",
      "60000/60000 [==============================] - 1s 12us/step - loss: 0.2898 - val_loss: 0.2919\n",
      "Epoch 80/250\n",
      "60000/60000 [==============================] - 1s 16us/step - loss: 0.2897 - val_loss: 0.2918\n",
      "Epoch 81/250\n",
      "60000/60000 [==============================] - 1s 18us/step - loss: 0.2896 - val_loss: 0.2918\n",
      "Epoch 82/250\n",
      "60000/60000 [==============================] - 1s 20us/step - loss: 0.2895 - val_loss: 0.2916\n",
      "Epoch 83/250\n",
      "60000/60000 [==============================] - 1s 23us/step - loss: 0.2894 - val_loss: 0.2916\n",
      "Epoch 84/250\n",
      "60000/60000 [==============================] - 1s 15us/step - loss: 0.2894 - val_loss: 0.2915\n",
      "Epoch 85/250\n",
      "60000/60000 [==============================] - 1s 9us/step - loss: 0.2893 - val_loss: 0.2914\n",
      "Epoch 86/250\n",
      "60000/60000 [==============================] - 1s 12us/step - loss: 0.2892 - val_loss: 0.2914\n",
      "Epoch 87/250\n",
      "60000/60000 [==============================] - 1s 21us/step - loss: 0.2891 - val_loss: 0.2913\n",
      "Epoch 88/250\n",
      "60000/60000 [==============================] - 2s 35us/step - loss: 0.2890 - val_loss: 0.2912\n",
      "Epoch 89/250\n",
      "60000/60000 [==============================] - 2s 35us/step - loss: 0.2890 - val_loss: 0.2911\n",
      "Epoch 90/250\n",
      "60000/60000 [==============================] - 2s 28us/step - loss: 0.2889 - val_loss: 0.2910\n",
      "Epoch 91/250\n",
      "60000/60000 [==============================] - 2s 31us/step - loss: 0.2888 - val_loss: 0.2910\n",
      "Epoch 92/250\n",
      "60000/60000 [==============================] - 2s 25us/step - loss: 0.2887 - val_loss: 0.2909\n",
      "Epoch 93/250\n",
      "60000/60000 [==============================] - 2s 29us/step - loss: 0.2887 - val_loss: 0.2908\n",
      "Epoch 94/250\n",
      "60000/60000 [==============================] - 2s 35us/step - loss: 0.2886 - val_loss: 0.2908\n",
      "Epoch 95/250\n",
      "60000/60000 [==============================] - 2s 35us/step - loss: 0.2885 - val_loss: 0.2907\n",
      "Epoch 96/250\n",
      "60000/60000 [==============================] - 2s 36us/step - loss: 0.2885 - val_loss: 0.2906\n",
      "Epoch 97/250\n",
      "60000/60000 [==============================] - 1s 10us/step - loss: 0.2884 - val_loss: 0.2906\n",
      "Epoch 98/250\n",
      "60000/60000 [==============================] - 1s 10us/step - loss: 0.2883 - val_loss: 0.2905\n",
      "Epoch 99/250\n",
      "60000/60000 [==============================] - 1s 11us/step - loss: 0.2883 - val_loss: 0.2904\n",
      "Epoch 100/250\n",
      "60000/60000 [==============================] - 1s 15us/step - loss: 0.2882 - val_loss: 0.2904\n",
      "Epoch 101/250\n",
      "60000/60000 [==============================] - 1s 17us/step - loss: 0.2882 - val_loss: 0.2904\n",
      "Epoch 102/250\n",
      "60000/60000 [==============================] - 1s 21us/step - loss: 0.2881 - val_loss: 0.2903\n",
      "Epoch 103/250\n",
      "60000/60000 [==============================] - 2s 32us/step - loss: 0.2880 - val_loss: 0.2902\n",
      "Epoch 104/250\n",
      "60000/60000 [==============================] - 1s 14us/step - loss: 0.2880 - val_loss: 0.2902\n",
      "Epoch 105/250\n",
      "60000/60000 [==============================] - 1s 14us/step - loss: 0.2879 - val_loss: 0.2901\n",
      "Epoch 106/250\n",
      "60000/60000 [==============================] - 1s 20us/step - loss: 0.2879 - val_loss: 0.2901\n",
      "Epoch 107/250\n",
      "60000/60000 [==============================] - 2s 31us/step - loss: 0.2878 - val_loss: 0.2900\n",
      "Epoch 108/250\n",
      "54528/60000 [==========================>...] - ETA: 0s - loss: 0.2879"
     ]
    }
   ],
   "source": [
    "# ===== # KERAS IMPLEMENTATION # ===== #\n",
    "autoencoder = Autoencoder(x_train.shape[1], 32)\n",
    "autoencoder.train(x_train, x_test, 256)\n",
    "encoded_imgs = autoencoder.get_encoded_image(x_test)\n",
    "decoded_imgs = autoencoder.get_decoded_image(encoded_imgs)"
   ]
  },
  {
   "cell_type": "code",
   "execution_count": 6,
   "metadata": {
    "collapsed": false,
    "inputHidden": false,
    "outputHidden": false
   },
   "outputs": [
    {
     "data": {
      "image/png": "[encoded data removed]",
      "text/plain": [
       "<Figure size 1440x288 with 20 Axes>"
      ]
     },
     "metadata": {
      "needs_background": "light"
     },
     "output_type": "display_data"
    }
   ],
   "source": [
    "# ===== # KERAS EVALUATION # ===== #\n",
    "plt.figure(figsize=(20, 4))\n",
    "for i in range(10):\n",
    "    # Original\n",
    "    subplot = plt.subplot(2, 10, i + 1)\n",
    "    plt.imshow(x_test[i].reshape(28, 28))\n",
    "    plt.gray()\n",
    "    subplot.get_xaxis().set_visible(False)\n",
    "    subplot.get_yaxis().set_visible(False)\n",
    "\n",
    "    # Reconstruction\n",
    "    subplot = plt.subplot(2, 10, i + 11)\n",
    "    plt.imshow(decoded_imgs[i].reshape(28, 28))\n",
    "    plt.gray()\n",
    "    subplot.get_xaxis().set_visible(False)\n",
    "    subplot.get_yaxis().set_visible(False)\n",
    "plt.show()"
   ]
  },
  {
   "cell_type": "markdown",
   "metadata": {},
   "source": [
    "## Tensorflow Implementation"
   ]
  },
  {
   "cell_type": "code",
   "execution_count": null,
   "metadata": {},
   "outputs": [],
   "source": [
    "# %run ../models/autoencoder.py\n",
    "from models.autoencoder import Autoencoder"
   ]
  },
  {
   "cell_type": "code",
   "execution_count": null,
   "metadata": {},
   "outputs": [],
   "source": [
    "# ===== # CONFIGURATIONS # ===== #\n",
    "hidden_dim = 1\n",
    "data = datasets.load_iris().data\n",
    "input_dim = len(data[0])\n",
    "# input dim is (,4), hidden_dim is 1\n",
    "\n",
    "ae = Autoencoder(input_dim=input_dim, hidden_dim=1)"
   ]
  },
  {
   "cell_type": "code",
   "execution_count": null,
   "metadata": {},
   "outputs": [],
   "source": [
    "# ===== # TRAINING # ===== #\n",
    "ae.train(data)"
   ]
  },
  {
   "cell_type": "code",
   "execution_count": null,
   "metadata": {},
   "outputs": [],
   "source": [
    "# ===== # TESTING # ===== #\n",
    "ae.test([[8, 4, 6, 2]])"
   ]
  },
  {
   "cell_type": "code",
   "execution_count": null,
   "metadata": {},
   "outputs": [],
   "source": []
  }
 ],
 "metadata": {
  "kernel_info": {
   "name": "info411"
  },
  "kernelspec": {
   "display_name": "Python (info411)",
   "language": "python",
   "name": "info411"
  },
  "language_info": {
   "codemirror_mode": {
    "name": "ipython",
    "version": 3
   },
   "file_extension": ".py",
   "mimetype": "text/x-python",
   "name": "python",
   "nbconvert_exporter": "python",
   "pygments_lexer": "ipython3",
   "version": "3.7.3"
  },
  "nteract": {
   "version": "0.14.2"
  }
 },
 "nbformat": 4,
 "nbformat_minor": 2
}
