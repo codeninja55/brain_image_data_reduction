{
 "cells": [
  {
   "cell_type": "markdown",
   "metadata": {},
   "source": [
    "# Autoencoder Artificial Neural Network"
   ]
  },
  {
   "cell_type": "code",
   "execution_count": 1,
   "metadata": {},
   "outputs": [],
   "source": [
    "# ===== # IMPORTS # ===== #\n",
    "import os\n",
    "import sys\n",
    "\n",
    "from sklearn import datasets\n",
    "import matplotlib.pyplot as plt\n",
    "%matplotlib inline\n",
    "\n",
    "nb_dir = os.path.split(os.getcwd())[0]\n",
    "models_dir = os.path.abspath(os.path.join(nb_dir, 'models'))\n",
    "if nb_dir not in sys.path:\n",
    "    sys.path.append(nb_dir)\n",
    "if models_dir not in sys.path:\n",
    "    sys.path.append(models_dir)"
   ]
  },
  {
   "cell_type": "code",
   "execution_count": 2,
   "metadata": {},
   "outputs": [],
   "source": [
    "# %run ../models/autoencoder.py\n",
    "from models.autoencoder import Autoencoder"
   ]
  },
  {
   "cell_type": "code",
   "execution_count": 3,
   "metadata": {},
   "outputs": [
    {
     "name": "stdout",
     "output_type": "stream",
     "text": [
      "WARNING:tensorflow:From /home/codeninja/anaconda3/envs/info411/lib/python3.7/site-packages/tensorflow/python/framework/op_def_library.py:263: colocate_with (from tensorflow.python.framework.ops) is deprecated and will be removed in a future version.\n",
      "Instructions for updating:\n",
      "Colocations handled automatically by placer.\n"
     ]
    }
   ],
   "source": [
    "# ===== # CONFIGURATIONS # ===== #\n",
    "hidden_dim = 1\n",
    "data = datasets.load_iris().data\n",
    "input_dim = len(data[0])\n",
    "# input dim is (,4), hidden_dim is 1\n",
    "\n",
    "ae = Autoencoder(input_dim=input_dim, hidden_dim=1)"
   ]
  },
  {
   "cell_type": "code",
   "execution_count": 4,
   "metadata": {},
   "outputs": [
    {
     "name": "stdout",
     "output_type": "stream",
     "text": [
      "epoch 0: loss = 3.83764386177063\n",
      "epoch 10: loss = 1.8311353921890259\n",
      "epoch 20: loss = 1.0980931520462036\n",
      "epoch 30: loss = 0.6257619857788086\n",
      "epoch 40: loss = 0.4122471809387207\n",
      "epoch 50: loss = 0.3840556740760803\n",
      "epoch 60: loss = 0.38057103753089905\n",
      "epoch 70: loss = 0.3801596760749817\n",
      "epoch 80: loss = 0.3802647888660431\n",
      "epoch 90: loss = 0.38038358092308044\n",
      "epoch 100: loss = 0.380499929189682\n",
      "epoch 110: loss = 0.3806065320968628\n",
      "epoch 120: loss = 0.38059401512145996\n",
      "epoch 130: loss = 0.38033774495124817\n",
      "epoch 140: loss = 0.3798350393772125\n",
      "epoch 150: loss = 0.3791639804840088\n",
      "epoch 160: loss = 0.3783566653728485\n",
      "epoch 170: loss = 0.3774038255214691\n",
      "epoch 180: loss = 0.3762761354446411\n",
      "epoch 190: loss = 0.374925434589386\n",
      "epoch 200: loss = 0.37331297993659973\n",
      "epoch 210: loss = 0.3713911473751068\n",
      "epoch 220: loss = 0.36912572383880615\n",
      "epoch 230: loss = 0.36648043990135193\n",
      "epoch 240: loss = 0.3633684515953064\n"
     ]
    }
   ],
   "source": [
    "# ===== # TRAINING # ===== #\n",
    "ae.train(data)"
   ]
  },
  {
   "cell_type": "code",
   "execution_count": 5,
   "metadata": {},
   "outputs": [
    {
     "name": "stdout",
     "output_type": "stream",
     "text": [
      "WARNING:tensorflow:From /home/codeninja/anaconda3/envs/info411/lib/python3.7/site-packages/tensorflow/python/training/saver.py:1266: checkpoint_exists (from tensorflow.python.training.checkpoint_management) is deprecated and will be removed in a future version.\n",
      "Instructions for updating:\n",
      "Use standard file APIs to check for files with this prefix.\n",
      "INFO:tensorflow:Restoring parameters from ./model.ckpt\n",
      "input [[8, 4, 6, 2]]\n",
      "compressed [[-0.99165297]]\n",
      "reconstructed [[6.414244  3.133564  4.69387   1.6142452]]\n"
     ]
    },
    {
     "data": {
      "text/plain": [
       "array([[6.414244 , 3.133564 , 4.69387  , 1.6142452]], dtype=float32)"
      ]
     },
     "execution_count": 5,
     "metadata": {},
     "output_type": "execute_result"
    }
   ],
   "source": [
    "# ===== # TESTING # ===== #\n",
    "ae.test([[8, 4, 6, 2]])"
   ]
  },
  {
   "cell_type": "code",
   "execution_count": null,
   "metadata": {},
   "outputs": [],
   "source": []
  }
 ],
 "metadata": {
  "kernelspec": {
   "display_name": "Python (info411)",
   "language": "python",
   "name": "info411"
  },
  "language_info": {
   "codemirror_mode": {
    "name": "ipython",
    "version": 3
   },
   "file_extension": ".py",
   "mimetype": "text/x-python",
   "name": "python",
   "nbconvert_exporter": "python",
   "pygments_lexer": "ipython3",
   "version": "3.7.3"
  }
 },
 "nbformat": 4,
 "nbformat_minor": 2
}
